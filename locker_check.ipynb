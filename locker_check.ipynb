{
 "cells": [
  {
   "cell_type": "code",
   "execution_count": 14,
   "metadata": {},
   "outputs": [],
   "source": [
    "def segui(n, lock_1, lock_2):\n",
    "    lookup=[0,1,2,3,4,5,4,3,2,1]\n",
    "    sum=0\n",
    "    m=n-1\n",
    "    lock1=lock_1\n",
    "    lock2=lock_2\n",
    "    while m>-1:\n",
    "        sum = sum + lookup[abs((lock1 // 10**m) - (lock2 //10**m))]\n",
    "        lock1 = lock1 % 10**m\n",
    "        lock2 = lock2 % 10**m\n",
    "        m = m-1\n",
    "    print(sum)\n",
    "    \n"
   ]
  },
  {
   "cell_type": "code",
   "execution_count": null,
   "metadata": {},
   "outputs": [],
   "source": []
  }
 ],
 "metadata": {
  "kernelspec": {
   "display_name": "Python 3",
   "language": "python",
   "name": "python3"
  },
  "language_info": {
   "codemirror_mode": {
    "name": "ipython",
    "version": 3
   },
   "file_extension": ".py",
   "mimetype": "text/x-python",
   "name": "python",
   "nbconvert_exporter": "python",
   "pygments_lexer": "ipython3",
   "version": "3.10.11"
  }
 },
 "nbformat": 4,
 "nbformat_minor": 2
}
